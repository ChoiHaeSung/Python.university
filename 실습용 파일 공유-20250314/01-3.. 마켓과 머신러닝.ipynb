{
 "cells": [
  {
   "cell_type": "code",
   "execution_count": 4,
   "id": "8d885f64",
   "metadata": {},
   "outputs": [],
   "source": [
    "# 도미와 빙어의 데이터를 합쳐서 하나의 리스트로 저장\n",
    "# - http://bit.ly/bream_smelt\n",
    "fish_length = [25.4, 26.3, 26.5, 29.0, 29.0, 29.7, 29.7, 30.0, 30.0, 30.7, 31.0, 31.0, \n",
    "                31.5, 32.0, 32.0, 32.0, 33.0, 33.0, 33.5, 33.5, 34.0, 34.0, 34.5, 35.0, \n",
    "                35.0, 35.0, 35.0, 36.0, 36.0, 37.0, 38.5, 38.5, 39.5, 41.0, 41.0, 9.8, \n",
    "                10.5, 10.6, 11.0, 11.2, 11.3, 11.8, 11.8, 12.0, 12.2, 12.4, 13.0, 14.3, 15.0]\n",
    "fish_weight = [242.0, 290.0, 340.0, 363.0, 430.0, 450.0, 500.0, 390.0, 450.0, 500.0, 475.0, 500.0, \n",
    "                500.0, 340.0, 600.0, 600.0, 700.0, 700.0, 610.0, 650.0, 575.0, 685.0, 620.0, 680.0, \n",
    "                700.0, 725.0, 720.0, 714.0, 850.0, 1000.0, 920.0, 955.0, 925.0, 975.0, 950.0, 6.7, \n",
    "                7.5, 7.0, 9.7, 9.8, 8.7, 10.0, 9.9, 9.8, 12.2, 13.4, 12.2, 19.7, 19.9]"
   ]
  },
  {
   "cell_type": "code",
   "execution_count": null,
   "id": "6d10117c-088c-41cf-b230-d7711a941617",
   "metadata": {},
   "outputs": [
    {
     "ename": "NameError",
     "evalue": "name 'bream_length' is not defined",
     "output_type": "error",
     "traceback": [
      "\u001b[1;31m---------------------------------------------------------------------------\u001b[0m",
      "\u001b[1;31mNameError\u001b[0m                                 Traceback (most recent call last)",
      "Cell \u001b[1;32mIn[5], line 3\u001b[0m\n\u001b[0;32m      1\u001b[0m \u001b[38;5;28;01mimport\u001b[39;00m \u001b[38;5;21;01mmatplotlib\u001b[39;00m\u001b[38;5;21;01m.\u001b[39;00m\u001b[38;5;21;01mpyplot\u001b[39;00m \u001b[38;5;28;01mas\u001b[39;00m \u001b[38;5;21;01mplt\u001b[39;00m\n\u001b[1;32m----> 3\u001b[0m plt\u001b[38;5;241m.\u001b[39mscatter(bream_length, bream_weight)\n\u001b[0;32m      4\u001b[0m plt\u001b[38;5;241m.\u001b[39mxlabel(\u001b[38;5;124m'\u001b[39m\u001b[38;5;124mlenth\u001b[39m\u001b[38;5;124m'\u001b[39m)\n\u001b[0;32m      5\u001b[0m plt\u001b[38;5;241m.\u001b[39mylabel(\u001b[38;5;124m'\u001b[39m\u001b[38;5;124mweight\u001b[39m\u001b[38;5;124m'\u001b[39m)\n",
      "\u001b[1;31mNameError\u001b[0m: name 'bream_length' is not defined"
     ]
    }
   ],
   "source": [
    "import matplotlib.pyplot as plt\n",
    "\n",
    "plt.scatter(bream_length, bream_weight)\n",
    "plt.xlabel('lenth')\n",
    "plt.ylabel('weight')\n",
    "plt.title('Relationship of bream length, weight')\n",
    "plt.show()\n",
    "\n",
    "smelt_length = [9.8, 10.5, 10.6, 11.0, 11.2, 11.3, 11.8, 11.8, 12.0, 12.2, 12.4, 13.0, 14.3, 15.0]\n",
    "smelt_weight = [6.7, 7.5, 7.0, 9.7, 9.8, 8.7, 10.0, 9.9, 9.8, 12.2, 13.4, 12.2, 19.7, 19.9]\n",
    "\n",
    "import matplotlib.pyplot as plt\n",
    "\n",
    "plt.scatter(bream_length, bream_weight)\n",
    "plt.scatter(smelt_length, smelt_weight)\n",
    "plt.xlabel('length')\n",
    "plt.ylabel('weight')\n",
    "plt.title('Relationship of bream and smelt\\'s length, weight')\n",
    "plt.show()\n",
    "\n",
    "# 도미 데이터와 빙어 데이터를 하나의 데이터로 병합\n",
    "length = bream_length + smelt_length\n",
    "weight = bream_weight + smelt_weight\n",
    "\n",
    "fish_data = [[l, w] for l, w in zip(length, weight)]\n",
    "fish_data\n",
    "\n",
    "fish_target = [1] * 35 + [0] *14\n",
    "print(fish_target)\n",
    "\n",
    "# k-최근접 이웃 알고리즘을 사용하기 위한 라이브러리 로드\n",
    "from sklearn.neighbors import KNeighborsClassifier\n",
    "kn = KNeighborsClassifier() # k-최근접 이웃 분류 객체 생성\n",
    "\n",
    "# 주어진 생선 데이터를 이용하여 알고리즘을 훈련\n",
    "kn.fit(fish_data, fish_target)\n",
    "\n",
    "kn.score(fish_data, fish_target)\n",
    "\n",
    "# 길이 30, 무게 600인 생선이 어떤 종류인지 예측\n",
    "kn.predict([[30, 600]]) # 특성을 입력할 때에는 항상 2차원 배열로 만들어서 입력해야 함\n",
    "\n",
    "import matplotlib.pyplot as plt\n",
    "\n",
    "plt.scatter(bream_length, bream_weight)\n",
    "plt.scatter(smelt_length, smelt_weight)\n",
    "plt.scatter(30, 600, color='green', marker='^')\n",
    "plt.xlabel('length')\n",
    "plt.ylabel('weight')\n",
    "plt.title('Relationship of bream and smelt\\'s length, weight')\n",
    "plt.show()\n",
    "\n",
    "# k-최근접 알고리즘 객체가 들고 있는 특성 데이터 출력\n",
    "kn._fit_X\n",
    "\n",
    "# k-최근접 알고리\n",
    "kn._y\n",
    "\n",
    "# 참고하는 데이터를 기본 5개가 아닌 입력된 49개 모든 데이터를 참고하는 모델 생성\n",
    "kn49 = KNeighborsClassifier(n_neighbors = 49)\n",
    "\n",
    "# 49개의 모든 생선 데이터를 이용핟여 생선 종류를 판별하기 때문에\n",
    "# 다수를 차지하는 도미 데이터로 판별할 수 밖에 없음\n",
    "# ==> 입력되는 모든 데이터가 도미 데이터가 됨(49개 중 36개의 도미만 정답)\n",
    "# ==> 정답률 : 71.4%\n",
    "kn49.fit(fish_data, fish_target)\n",
    "kn49.score(fish_data, fish_target)\n",
    "\n",
    "print(35/49)"
   ]
  },
  {
   "cell_type": "code",
   "execution_count": null,
   "id": "a143390b",
   "metadata": {},
   "outputs": [],
   "source": []
  }
 ],
 "metadata": {
  "kernelspec": {
   "display_name": "base",
   "language": "python",
   "name": "python3"
  },
  "language_info": {
   "codemirror_mode": {
    "name": "ipython",
    "version": 3
   },
   "file_extension": ".py",
   "mimetype": "text/x-python",
   "name": "python",
   "nbconvert_exporter": "python",
   "pygments_lexer": "ipython3",
   "version": "3.12.7"
  }
 },
 "nbformat": 4,
 "nbformat_minor": 5
}
